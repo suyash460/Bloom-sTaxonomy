{
 "cells": [
  {
   "cell_type": "code",
   "execution_count": null,
   "id": "fcb1fa5c-e333-45d6-b00f-8e0a4821e246",
   "metadata": {},
   "outputs": [
    {
     "name": "stdout",
     "output_type": "stream",
     "text": [
      "5000 10% (0m 32s) 1.9604 Why would you like to work with our company / Comprehension ✗ (Application)\n",
      "10000 20% (1m 4s) 0.2077 Who was Stan Laurels partner  / Knowledge ✓\n",
      "15000 30% (1m 36s) 0.2867 What might happen if you combined... / Synthesis ✓\n",
      "20000 40% (2m 8s) 3.2452 would you classify the zener diode in this circuit as a series voltage regulator or a shunt voltage regulator / Synthesis ✗ (Comprehension)\n",
      "25000 50% (2m 41s) 0.0626 Compare this book to the last book you read. / Analysis ✓\n",
      "30000 60% (3m 13s) 0.0160 What do you think might have happened / Comprehension ✓\n",
      "35000 70% (3m 45s) 0.0472 in what ways is oxyperoxidase similar to other oxygenated heme proteins, and how does it differ / Analysis ✓\n",
      "40000 80% (4m 17s) 0.0858 Discuss the nature of socialism. / Comprehension ✓\n",
      "45000 90% (4m 50s) 0.0003 How do we differentiate between genuine buyer and undercover buyer / Analysis ✓\n",
      "50000 100% (5m 22s) 0.0022 Given a graph of production trends in automobiles, describe what the graph represents in a memo to your boss. / Comprehension ✓\n"
     ]
    },
    {
     "data": {
      "image/png": "[encoded data removed]",
      "text/plain": [
       "<Figure size 432x288 with 1 Axes>"
      ]
     },
     "metadata": {
      "needs_background": "light"
     },
     "output_type": "display_data"
    }
   ],
   "source": [
    "from main import *"
   ]
  },
  {
   "cell_type": "code",
   "execution_count": null,
   "id": "8424db26-4ae5-4929-bd5d-e9b954fc52d5",
   "metadata": {},
   "outputs": [],
   "source": [
    "rnn.cpu()"
   ]
  },
  {
   "cell_type": "code",
   "execution_count": 4,
   "id": "f52c2139-eced-4886-9b8f-9c49b7f7821a",
   "metadata": {},
   "outputs": [],
   "source": [
    "torch.save(rnn.state_dict(),\"model.pt\")"
   ]
  },
  {
   "cell_type": "code",
   "execution_count": 5,
   "id": "b6f59f3d-55e8-4e77-be3d-6990589085b7",
   "metadata": {},
   "outputs": [
    {
     "name": "stdout",
     "output_type": "stream",
     "text": [
      "380K\tmodel.pt\n"
     ]
    }
   ],
   "source": [
    "!du -sh model.pt"
   ]
  },
  {
   "cell_type": "code",
   "execution_count": null,
   "id": "8509eeee-c86b-449b-bc49-2ca7a08f66c2",
   "metadata": {},
   "outputs": [],
   "source": []
  }
 ],
 "metadata": {
  "kernelspec": {
   "display_name": "Python 3",
   "language": "python",
   "name": "python3"
  },
  "language_info": {
   "codemirror_mode": {
    "name": "ipython",
    "version": 3
   },
   "file_extension": ".py",
   "mimetype": "text/x-python",
   "name": "python",
   "nbconvert_exporter": "python",
   "pygments_lexer": "ipython3",
   "version": "3.8.5"
  }
 },
 "nbformat": 4,
 "nbformat_minor": 5
}
